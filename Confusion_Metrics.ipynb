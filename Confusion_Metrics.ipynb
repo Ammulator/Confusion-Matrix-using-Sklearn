{
  "nbformat": 4,
  "nbformat_minor": 0,
  "metadata": {
    "colab": {
      "name": "Confusion Metrics.ipynb",
      "provenance": [],
      "collapsed_sections": [],
      "authorship_tag": "ABX9TyODFb6C7B9AGh8h6XgMEKHK",
      "include_colab_link": true
    },
    "kernelspec": {
      "name": "python3",
      "display_name": "Python 3"
    }
  },
  "cells": [
    {
      "cell_type": "markdown",
      "metadata": {
        "id": "view-in-github",
        "colab_type": "text"
      },
      "source": [
        "<a href=\"https://colab.research.google.com/github/Ammulator/Confusion-Matrix-using-Sklearn/blob/main/Confusion_Metrics.ipynb\" target=\"_parent\"><img src=\"https://colab.research.google.com/assets/colab-badge.svg\" alt=\"Open In Colab\"/></a>"
      ]
    },
    {
      "cell_type": "code",
      "metadata": {
        "id": "oTCMDwg-FM0c",
        "colab": {
          "base_uri": "https://localhost:8080/"
        },
        "outputId": "65e4082c-f72f-4298-e852-9bf12a53c836"
      },
      "source": [
        "#In these we use Breast Cancer Logistic Regression\r\n",
        "import pandas as pd\r\n",
        "from sklearn.datasets import load_breast_cancer\r\n",
        "cancer=load_breast_cancer()\r\n",
        "df=pd.DataFrame(cancer['data'],columns=cancer['feature_names'])\r\n",
        "df['target']=cancer['target']\r\n",
        "X=df[cancer['feature_names']].values\r\n",
        "y=df['target'].values\r\n",
        "from sklearn.linear_model import LogisticRegression\r\n",
        "model=LogisticRegression()\r\n",
        "model.fit(X,y)\r\n",
        "y_pred=model.predict(X)\r\n",
        "#This is the code for prediction of breast cancer in which 0 is malignant and 1 is magnin"
      ],
      "execution_count": 1,
      "outputs": [
        {
          "output_type": "stream",
          "text": [
            "/usr/local/lib/python3.6/dist-packages/sklearn/linear_model/_logistic.py:940: ConvergenceWarning: lbfgs failed to converge (status=1):\n",
            "STOP: TOTAL NO. of ITERATIONS REACHED LIMIT.\n",
            "\n",
            "Increase the number of iterations (max_iter) or scale the data as shown in:\n",
            "    https://scikit-learn.org/stable/modules/preprocessing.html\n",
            "Please also refer to the documentation for alternative solver options:\n",
            "    https://scikit-learn.org/stable/modules/linear_model.html#logistic-regression\n",
            "  extra_warning_msg=_LOGISTIC_SOLVER_CONVERGENCE_MSG)\n"
          ],
          "name": "stderr"
        }
      ]
    },
    {
      "cell_type": "code",
      "metadata": {
        "colab": {
          "base_uri": "https://localhost:8080/"
        },
        "id": "un9pwzBjGHFc",
        "outputId": "1f5a1ace-bf83-4514-fff5-c7993e5536d8"
      },
      "source": [
        "#Now we implement the confusion Metrics using Sklearn\r\n",
        "#It uses two 1D array \r\n",
        "from sklearn.metrics import confusion_matrix\r\n",
        "print(\"confusion Metrics : \\n\",confusion_matrix(y,y_pred))"
      ],
      "execution_count": 3,
      "outputs": [
        {
          "output_type": "stream",
          "text": [
            "confusion Metrics : \n",
            " [[193  19]\n",
            " [ 11 346]]\n"
          ],
          "name": "stdout"
        }
      ]
    }
  ]
}